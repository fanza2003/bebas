{
  "nbformat": 4,
  "nbformat_minor": 0,
  "metadata": {
    "colab": {
      "provenance": [],
      "authorship_tag": "ABX9TyNTtFw7d5VjrQfQVjnElalk",
      "include_colab_link": true
    },
    "kernelspec": {
      "name": "python3",
      "display_name": "Python 3"
    },
    "language_info": {
      "name": "python"
    }
  },
  "cells": [
    {
      "cell_type": "markdown",
      "metadata": {
        "id": "view-in-github",
        "colab_type": "text"
      },
      "source": [
        "<a href=\"https://colab.research.google.com/github/fanza2003/bebas/blob/main/nlpfanza.ipynb\" target=\"_parent\"><img src=\"https://colab.research.google.com/assets/colab-badge.svg\" alt=\"Open In Colab\"/></a>"
      ]
    },
    {
      "cell_type": "code",
      "execution_count": 3,
      "metadata": {
        "colab": {
          "base_uri": "https://localhost:8080/"
        },
        "id": "8H-hQH1xLpua",
        "outputId": "b1e523cf-9bc7-4ee3-f104-110039b8b96e"
      },
      "outputs": [
        {
          "output_type": "stream",
          "name": "stdout",
          "text": [
            "Requirement already satisfied: Sastrawi in /usr/local/lib/python3.10/dist-packages (1.0.1)\n"
          ]
        }
      ],
      "source": [
        "import requests\n",
        "import string\n",
        "import re\n",
        "\n",
        "from bs4 import BeautifulSoup\n",
        "import nltk\n",
        "from nltk.corpus import stopwords\n",
        "\n",
        "!pip install Sastrawi\n",
        "from Sastrawi.Stemmer.StemmerFactory import StemmerFactory"
      ]
    },
    {
      "cell_type": "code",
      "source": [
        "web = requests.get('https://news.detik.com/').text\n",
        "soup = BeautifulSoup (web)\n",
        "for s in soup (['script', 'style']):\n",
        "  s.decompose()\n",
        "teks = ' '.join(soup.stripped_strings)\n",
        "print(teks)"
      ],
      "metadata": {
        "colab": {
          "base_uri": "https://localhost:8080/"
        },
        "id": "TqmFuUsGNFgo",
        "outputId": "2f9e3540-4ab8-4e33-ab77-873fb9eb77ab"
      },
      "execution_count": 8,
      "outputs": [
        {
          "output_type": "stream",
          "name": "stdout",
          "text": [
            "detikNews - Berita hari ini di Indonesia dan Internasional detikNews - Berita hari ini di Indonesia dan Internasional MENU detikcom Terpopuler Kirim Tulisan Live TV detikPemilu NEW Kategori Berita detikNews detikFinance detikInet detikHot detikSport Sepakbola detikOto detikTravel detikFood detikHealth Wolipop detikX 20Detik detikFoto detikEdu detikHikmah detikProperti Daerah detikJateng detikJatim detikJabar detikSulsel detikSumut detikBali detikSumbagsel detikJogja NEW Layanan Pasang Mata adsmart Forum detikEvent Trans Snow World Trans Studio berbuatbaik.id ziswafctarsa.id Detik Network CNN Indonesia CNBC Indonesia Hai Bunda InsertLive Beautynesia Female Daily CXO Media Home Berita Jabodetabek Internasional Hukum detikX Kolom Blak Blakan Pro Kontra Infografis Foto Video Indeks Adsmart Terpopuler Hoax or Not Suara Pembaca Pemilu 2024 Pantau Pemilu The Matchmaker 0 Berita Terbaru UPDATE Survei Populi Center: Prabowo-Gibran 43,1%, Ganjar-Mahfud 23%, AMIN 22,3% Polisi Ungkap Jawaban Absurd Istri soal Suami dan Anak Membusuk di Koja Ganjar Tak Masalah Bobby Dukung Prabowo-Gibran: Silakan Hasto: Cak Imin Ahli Lihat Peluang, Jokowi Lengah Dikit Langsung Deklarasi Militer Israel dan Hamas Bertempur Jarak Dekat di Gaza Tabrak Pengunjung dan Eskalator Mal Semarang, Sales Mobil Jadi Tersangka 1 menit yang lalu Berita Terkait Polisi Bongkar Prostitusi Online Ibu Hamil-Remaja untuk LGBT di Purwokerto Polisi Tangkap Pembunuh Gadis Berseragam Pramuka di Pemalang 0 9 6 hari Menuju Waktunya Milih Pantau dinamika Pemilu 2024 di sini News Feed Indeks Berita Kemenkumham-Leimena Institute Kerja Sama Latih Guru soal HAM-Beragama 8 menit yang lalu Polsek Setiabudi Fasilitasi Hansip Pemeriksaan Kesehatan Gratis 9 menit yang lalu Wamenkumham Eddy Hiariej Ditetapkan Jadi Tersangka KPK 12 menit yang lalu 7 Foto Foto News Penampakan Pasukan Israel Masuk 'Jantung Kota Gaza', Tank di Mana-mana 14 menit yang lalu Usul Formula E Jakarta Diundur ke 2025 15 menit yang lalu ADVERTISEMENT SCROLL TO CONTINUE WITH CONTENT Pengacara Heran Irwan Hermawan Divonis 12 Tahun di Kasus BTS: Dia Cuma Kurir 28 menit yang lalu Pemprov DKI Tetap Kejar Target Jalur Sepeda 535,68 Km hingga 2026 40 menit yang lalu Eks Menpora Malaysia Syed Saddiq Divonis 7 Tahun di Kasus Pencucian Uang 46 menit yang lalu Penjelasan Pengelola soal Satpam Ributkan Kurir Pasang Bendera Palestina 46 menit yang lalu Tebing Setinggi 18 Meter di Kota Bogor Longsor, 2 Rumah Warga Rusak 59 menit yang lalu Video 20Detik Jokowi Akan Bertemu Joe Biden, Sampaikan Hasil KTT OKI soal Gaza 1 jam yang lalu Suhartoyo Janji Perbaiki Marwah MK Usai Terpilih Jadi Ketua 1 jam yang lalu Rapat Dewan Pengarah TKN Prabowo-Gibran, Airlangga-Rosan Tiba di DPP Golkar 1 jam yang lalu Video 20Detik Sakit Hati Ditinggal Nikah, Pria di Demak Bacok Mantan Pacar 1 jam yang lalu Daftar Vonis Terdakwa Kasus BTS, Semua Sesuai Tuntutan Kecuali 2 Orang 1 jam yang lalu Kapolsek Mampang Bicara soal Polisi Baik dalam Program 'Polri Belajar' 1 jam yang lalu Kurang Konsentrasi, Truk Tabrak 5 Kendaraan di Parung Bogor 1 jam yang lalu BMKG: Prakiraan Cuaca Besok 10 November 2023 Jakarta, Sudah Dicek? 1 jam yang lalu Elektabilitas Prabowo-Gibran Melejit di Survei Populi Center, Ini Faktornya 1 jam yang lalu Bike to Work Cabut Predikat Jakarta Kota Ramah Sepeda, Dishub Buka Suara 1 jam yang lalu Ketua Komisi I DPR Meutya Hafid Jadi Wakil Ketua TKN Prabowo-Gibran 1 jam yang lalu Video 20Detik WWF Nilai Hukuman Penjara untuk Pemburu Liar Masih Terlalu Rendah 1 jam yang lalu Serba-serbi Museum 10 Nopember dan Tugu Pahlawan Surabaya 1 jam yang lalu Gibran soal Patroli di Kantor PDIP Solo: DPC Partai Lain Dipatroli Juga 1 jam yang lalu Geranati L98T Gelar Aksi Besok, Minta Konser Coldplay di Jakarta Dibatalkan 1 jam yang lalu Fakta-fakta Pembunuhan di Pasuruan yang Tewaskan Wanita di Rumahnya 1 jam yang lalu Resmikan Fasilitas Akmil, Prabowo Berterima Kasih untuk Pekerja Bangunan 1 jam yang lalu Macetnya Jl TB Simatupang di Jam Pulang Kerja, Proyek Galian di Mana-mana 1 jam yang lalu Amanat Menteri Sosial untuk Hari Pahlawan 2023: Isi dan Link Unduh PDF 1 jam yang lalu Advokat Lisan Laporkan Jimly ke Dewan Etik MK Terkait Pencopotan Anwar Usman 1 jam yang lalu 1,85 Juta Pelamar Ikuti Tes CASN, MenPAN-RB Tegaskan Tak Ada Jurus Ordal 1 jam yang lalu Irwan dkk Terdakwa Kasus BTS Pikir-pikir Ajukan Banding atas Vonis Hakim 1 jam yang lalu 3 Foto Foto News Penampakan Banjir Rendam 19 Desa di Aceh Barat 2 jam yang lalu Serba-serbi Stadion Gelora Bung Tomo, Salah Satu Lokasi Piala Dunia U-17 2023 2 jam yang lalu Doa Upacara Hari Pahlawan 2023 untuk Semua Agama, Cek di Sini 2 jam yang lalu 4 Foto Foto News Tangan Berdarah Bela Palestina Muncul di Korsel 2 jam yang lalu Din Syamsuddin Dukung Anies-Cak Imin, PP Muhammadiyah: Itu Hak Politik 2 jam yang lalu MenPAN-RB Tegaskan Tak Ada Jurus Ordal di Tes CASN: Nilai Langsung Keluar 2 jam yang lalu TKN: Tidak Ada Celah untuk Gagalkan Gibran Jadi Kontestan Pemilu 2 jam yang lalu Prabowo Mau Lanjutkan Hilirisasi, Politisi PAN Ungkap Manfaatnya bagi RI 2 jam yang lalu Krisis di LCS Dorong Filipina Tinggalkan Inisiatif Sabuk-Jalan Milik China 2 jam yang lalu Vonis Ringan Galumbang di Kasus BTS: Tuntutan 15 Tahun, Diketok 6 Tahun 2 jam yang lalu Video 20Detik Ketua BEM UI Diduga Diintimidasi Terkait Putusan MK, Mahfud Akan Kirim Tim 2 jam yang lalu Satpam di Bekasi Dinonaktifkan Usai Cekcok gegara Bendera Palestina 2 jam yang lalu TGB Sebut Ganjar-Mahfud Siap Hadapi Diskusi Publik Muhammadiyah 2 jam yang lalu 5 Foto Foto News Ekspresi Galumbang Menak Divonis 6 Tahun Penjara Kasus Korupsi BTS 2 jam yang lalu Wakil PM Belgia Serukan Sanksi terhadap Israel Atas Bombardir Gaza 2 jam yang lalu Mantan Guru Pemeran Video Syur dengan Murid di Serang Ditangkap! 2 jam yang lalu Erick Thohir Posting Bareng RK: Sedang Merencanakan Sesuatu 2 jam yang lalu Mahfud Bantah Ada Konflik Kepentingan Putuskan Perkara Saat Jadi Ketua MK 2 jam yang lalu Indeks Berita Tag Terpopuler # pilpres 2024 # soedirman awards # gaza # palestina Berita Terpopuler #1 Elektabilitas Prabowo-Gibran Melejit di Survei Populi Center, Ini Faktornya #2 Advokat Lisan Laporkan Jimly ke Dewan Etik MK Terkait Pencopotan Anwar Usman #3 Nasib Gibran di Ujung Palu MK #4 Eks Menpora Malaysia Syed Saddiq Divonis 7 Tahun di Kasus Pencucian Uang #5 Survei Populi Center: 8 Parpol Diprediksi ke DPR, PPP 3,6% Lihat Selengkapnya Komentar Terbanyak 681 Komentar Cak Imin Lihat Tanda-tanda Menang 1 Putaran: Karena Survei Kami Terbaru 552 Komentar Anies: Kita di Sini Bela Palestina Bukan di Lapangan Monas, Ini Medan Merdeka 547 Komentar Anies: Apa Susahnya Bawa Anak-anak Palestina di Gaza ke Sini? part of Connect With Us Copyright @ 2023 detikcom. All right reserved Kategori detikNews detikEdukasi detikFinance detikInet detikHot detikSport Sepakbola detikOto detikProperti detikTravel detikFood detikHealth Wolipop detikX 20Detik detikFoto detikHikmah Layanan berbuatbaik.id Pasang Mata Adsmart Forum detikEvent Trans Snow World Trans Studio Informasi Redaksi Pedoman Media Siber Karir Kotak Pos Media Partner Info Iklan Privacy Policy Disclaimer Jaringan Media CNN Indonesia CNBC Indonesia Haibunda Insertlive Beautynesia Female Daily CXO Media Advertisement CLOSE\n"
          ]
        }
      ]
    },
    {
      "cell_type": "code",
      "source": [
        "teks = teks.lower()\n",
        "teks = re.sub(r\"\\d+\",\"\",teks)\n",
        "teks = teks.translate(str.maketrans(\"\",\"\",string.punctuation))\n",
        "teks = teks.strip()\n",
        "\n",
        "factory = StemmerFactory()\n",
        "stemmer = factory.create_stemmer()\n",
        "output = stemmer.stem(teks)\n",
        "print(output)"
      ],
      "metadata": {
        "colab": {
          "base_uri": "https://localhost:8080/"
        },
        "id": "4YyjixZQM6Qj",
        "outputId": "d04ef57a-f289-4381-b710-745f639ab016"
      },
      "execution_count": 11,
      "outputs": [
        {
          "output_type": "stream",
          "name": "stdout",
          "text": [
            "detiknews berita hari ini di indonesia dan internasional detiknews berita hari ini di indonesia dan internasional menu detikcom populer kirim tulis live tv detikpemilu new kategori berita detiknews detikfinance detikinet detikhot detiksport sepakbola detikoto detiktravel detikfood detikhealth wolipop detikx detik detikfoto detikedu detikhikmah detikproperti daerah detikjateng detikjatim detikjabar detiksulsel detiksumut detikbali detiksumbagsel detikjogja new layan pasang mata adsmart forum detikevent trans snow world trans studio berbuatbaikid ziswafctarsaid detik network cnn indonesia cnbc indonesia hai bunda insertlive beautynesia female daily cxo media home berita jabodetabek internasional hukum detikx kolom blak blakan pro kontra infografis foto video indeks adsmart populer hoax or not suara baca milu pantau milu the matchmaker berita baru update survei populi center prabowogibran ganjarmahfud amin polisi ungkap jawab absurd istri soal suami dan anak busuk di koja ganjar tak masalah bobby dukung prabowogibran sila hasto cak imin ahli lihat peluang jokowi lengah dikit langsung deklarasi militer israel dan hamas tempur jarak dekat di gaza tabrak unjung dan eskalator mal semarang sales mobil jadi sangka menit yang lalu berita kait polisi bongkar prostitusi online ibu hamilremaja untuk lgbt di purwokerto polisi tangkap bunuh gadis seragam pramuka di malang hari tuju waktu milih pantau dinamika milu di sini news feed indeks berita kemenkumhamleimena institute kerja sama latih guru soal hamberagama menit yang lalu polsek setiabudi fasilitas hansip periksa sehat gratis menit yang lalu wamenkumham eddy hiariej tetap jadi sangka kpk menit yang lalu foto foto news tampak pasu israel masuk jantung kota gaza tank di manamana menit yang lalu usul formula e jakarta undur ke menit yang lalu advertisement scroll to continue with content acara heran irwan hermawan vonis tahun di kasus bts dia cuma kurir menit yang lalu pemprov dki tetap kejar target jalur sepeda km hingga menit yang lalu eks menpora malaysia syed saddiq vonis tahun di kasus cuci uang menit yang lalu jelas kelola soal satpam ribut kurir pasang bendera palestina menit yang lalu tebing setinggi meter di kota bogor longsor rumah warga rusak menit yang lalu video detik jokowi akan temu joe biden sampai hasil ktt oki soal gaza jam yang lalu suhartoyo janji baik marwah mk usai pilih jadi ketua jam yang lalu rapat dewan arah tkn prabowogibran airlanggarosan tiba di dpp golkar jam yang lalu video detik sakit hati tinggal nikah pria di demak bacok mantan pacar jam yang lalu daftar vonis dakwa kasus bts semua sesuai tuntut kecuali orang jam yang lalu kapolsek mampang bicara soal polisi baik dalam program polri ajar jam yang lalu kurang konsentrasi truk tabrak kendara di parung bogor jam yang lalu bmkg prakira cuaca besok november jakarta sudah cek jam yang lalu elektabilitas prabowogibran lejit di survei populi center ini faktor jam yang lalu bike to work cabut predikat jakarta kota ramah sepeda dishub buka suara jam yang lalu ketua komisi i dpr meutya hafid jadi wakil ketua tkn prabowogibran jam yang lalu video detik wwf nilai hukum penjara untuk buru liar masih terlalu rendah jam yang lalu serbaserbi museum nopember dan tugu pahlawan surabaya jam yang lalu gibran soal patroli di kantor pdip solo dpc partai lain patroli juga jam yang lalu geranati lt gelar aksi besok minta konser coldplay di jakarta batal jam yang lalu faktafakta bunuh di pasuruan yang tewas wanita di rumah jam yang lalu resmi fasilitas akmil prabowo terima kasih untuk kerja bangun jam yang lalu macet jl tb simatupang di jam pulang kerja proyek gali di manamana jam yang lalu amanat menteri sosial untuk hari pahlawan isi dan link unduh pdf jam yang lalu advokat lisan lapor jimly ke dewan etik mk kait copot anwar usman jam yang lalu juta lamar ikut tes casn menpanrb tegas tak ada jurus ordal jam yang lalu irwan dkk dakwa kasus bts pikirpikir aju banding atas vonis hakim jam yang lalu foto foto news tampak banjir rendam desa di aceh barat jam yang lalu serbaserbi stadion gelora bung tomo salah satu lokasi piala dunia u jam yang lalu doa upacara hari pahlawan untuk semua agama cek di sini jam yang lalu foto foto news tangan darah bela palestina muncul di korsel jam yang lalu din syamsuddin dukung aniescak imin pp muhammadiyah itu hak politik jam yang lalu menpanrb tegas tak ada jurus ordal di tes casn nilai langsung keluar jam yang lalu tkn tidak ada celah untuk gagal gibran jadi kontestan milu jam yang lalu prabowo mau lanjut hilir politis pan ungkap manfaat bagi ri jam yang lalu krisis di lcs dorong filipina tinggal inisiatif sabukjalan milik china jam yang lalu vonis ringan galumbang di kasus bts tuntut tahun ketok tahun jam yang lalu video detik ketua bem ui duga intimidasi kait putus mk mahfud akan kirim tim jam yang lalu satpam di bekas nonaktif usai cekcok gegara bendera palestina jam yang lalu tgb sebut ganjarmahfud siap hadap diskusi publik muhammadiyah jam yang lalu foto foto news ekspresi galumbang menak vonis tahun penjara kasus korupsi bts jam yang lalu wakil pm belgia seru sanksi hadap israel atas bombardir gaza jam yang lalu mantan guru per video syur dengan murid di serang tangkap jam yang lalu erick thohir posting bareng rk sedang rencana sesuatu jam yang lalu mahfud bantah ada konflik penting putus perkara saat jadi ketua mk jam yang lalu indeks berita tag populer pilpres soedirman awards gaza palestina berita populer elektabilitas prabowogibran lejit di survei populi center ini faktor advokat lisan lapor jimly ke dewan etik mk kait copot anwar usman nasib gibran di ujung palu mk eks menpora malaysia syed saddiq vonis tahun di kasus cuci uang survei populi center parpol prediksi ke dpr ppp lihat lengkap komentar banyak komentar cak imin lihat tandatanda menang putar karena survei kami baru komentar anies kita di sini bela palestina bukan di lapang monas ini medan merdeka komentar anies apa susah bawa anakanak palestina di gaza ke sini part of connect with us copyright detikcom all right reserved kategori detiknews detikedukasi detikfinance detikinet detikhot detiksport sepakbola detikoto detikproperti detiktravel detikfood detikhealth wolipop detikx detik detikfoto detikhikmah layan berbuatbaikid pasang mata adsmart forum detikevent trans snow world trans studio informasi redaksi pedoman media siber karir kotak pos media partner info iklan privacy policy disclaimer jaring media cnn indonesia cnbc indonesia haibunda insertlive beautynesia female daily cxo media advertisement close\n"
          ]
        }
      ]
    },
    {
      "cell_type": "code",
      "source": [
        "tokens = [t for t output.split()]"
      ],
      "metadata": {
        "id": "EIIeXuIpRNFx"
      },
      "execution_count": null,
      "outputs": []
    }
  ]
}